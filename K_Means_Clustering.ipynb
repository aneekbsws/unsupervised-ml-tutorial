{
  "nbformat": 4,
  "nbformat_minor": 0,
  "metadata": {
    "colab": {
      "provenance": [],
      "authorship_tag": "ABX9TyPsGz6Ax0PzOD/a0PEp0Vyh",
      "include_colab_link": true
    },
    "kernelspec": {
      "name": "python3",
      "display_name": "Python 3"
    },
    "language_info": {
      "name": "python"
    }
  },
  "cells": [
    {
      "cell_type": "markdown",
      "metadata": {
        "id": "view-in-github",
        "colab_type": "text"
      },
      "source": [
        "<a href=\"https://colab.research.google.com/github/aneekbsws/unsupervised-ml-tutorial/blob/main/K_Means_Clustering.ipynb\" target=\"_parent\"><img src=\"https://colab.research.google.com/assets/colab-badge.svg\" alt=\"Open In Colab\"/></a>"
      ]
    },
    {
      "cell_type": "markdown",
      "source": [
        "Image compression using K-Means"
      ],
      "metadata": {
        "id": "BC5LspAOa8dz"
      }
    },
    {
      "cell_type": "markdown",
      "source": [
        "#1. Importing Libraries#"
      ],
      "metadata": {
        "id": "xf3tldA0VULI"
      }
    },
    {
      "cell_type": "code",
      "source": [
        "import numpy as np\n",
        "import matplotlib.pyplot as plt"
      ],
      "metadata": {
        "id": "kyz8ZT5-VVi2"
      },
      "execution_count": 17,
      "outputs": []
    },
    {
      "cell_type": "markdown",
      "source": [
        "#2. Utility Functions#"
      ],
      "metadata": {
        "id": "oaCMRQeCf6sF"
      }
    },
    {
      "cell_type": "code",
      "source": [
        "def load_data():\n",
        "  X = np.load(\"ex7_X.npy\")\n",
        "  return X"
      ],
      "metadata": {
        "id": "G4ypOmUqf8mV"
      },
      "execution_count": 18,
      "outputs": []
    },
    {
      "cell_type": "code",
      "source": [
        "def plot_data_points(X, idx):\n",
        "  #plots data points in X, coloring them so that those with the same index assignments in idx have the same color\n",
        "  plt.scatter(X[:,0], X[:,1], c = idx)"
      ],
      "metadata": {
        "id": "tJgZON2-l75I"
      },
      "execution_count": 19,
      "outputs": []
    },
    {
      "cell_type": "code",
      "source": [
        "def draw_line(p1, p2, style='-k', linewidth=1):\n",
        "  plt.plot([p1[0], p2[0]], [p1[1], p2[1]], style, linewidth=linewidth)"
      ],
      "metadata": {
        "id": "VvnZ9BOomp7q"
      },
      "execution_count": 20,
      "outputs": []
    },
    {
      "cell_type": "code",
      "source": [
        "def plot_progress(K, centroids, previous_centroids, idx, i):\n",
        "  # Plot the examples\n",
        "  plot_data_points(X, idx)\n",
        "\n",
        "  # Plot the centroids as black Xs\n",
        "  plt.scatter(centroids[:,0], centroids[:,1], marker='X', c = 'k', linewidths=3)\n",
        "\n",
        "  # Plot history of centroids with a line\n",
        "  for j in range(centroids.shape[0]):\n",
        "    draw_line(centroids[j,:], previous_centroids[j,:])"
      ],
      "metadata": {
        "id": "ffBPnQyTlx09"
      },
      "execution_count": 21,
      "outputs": []
    },
    {
      "cell_type": "markdown",
      "source": [
        "#3. Implementing K-Means"
      ],
      "metadata": {
        "id": "S1EdYQgEb-xH"
      }
    },
    {
      "cell_type": "markdown",
      "source": [
        "**K-Means algorithm** is a way to organise similar data-points in clusters. It includes two main methods - \n",
        "1. Assigning points to closest cluster centroids.\n",
        "2. Moving the cluster centroids to the mean coordinate of its respective data-points.\n",
        "\n",
        "The K-Means Clustering optimizes the cost function \n",
        "\n",
        "<img src=\"https://latex.codecogs.com/svg.image?J&space;(c^{1},...,c^{m},\\mu_{1},....,\\mu_{k})&space;=&space;\\frac{1}{m}&space;\\sum_{i=1}^{m}&space;\\left\\|&space;x^{i}&space;-&space;\\mu_{c}^{i}\\right\\|^{2}\" title=\"https://latex.codecogs.com/svg.image?J (c^{1},...,c^{m},\\mu_{1},....,\\mu_{k}) = \\frac{1}{m} \\sum_{i=1}^{m} \\left\\| x^{i} - \\mu_{c}^{i}\\right\\|^{2}\" />\n",
        "\n",
        "\n",
        "so it is guarenteed to converge. \n",
        "For initializing the cluster centroids for the very first time, we can run n number of K-means, then choose the clusters for the one with least loss. \n",
        "Number of clusters (k) is an ambiguous amount. We can choose it based on the downstream purposes."
      ],
      "metadata": {
        "id": "YU49qT3jVeRo"
      }
    },
    {
      "cell_type": "markdown",
      "source": [
        "**3.1 Finding closest centroids -**"
      ],
      "metadata": {
        "id": "iTMEAB1ccBp3"
      }
    },
    {
      "cell_type": "markdown",
      "source": [
        "**Inputs** \n",
        "- X : the data matrix\n",
        "- centroids: the location of all centroids\n",
        "\n",
        "**Output**: \n",
        "idx : 1D array that holds the index of the closest centroid (a value in (1,K) where K is the number of clusters), to every training example.\n",
        "\n",
        "For every example, Xi is set to be the the j where the L-norm distance between Xi and Uj is minimum. "
      ],
      "metadata": {
        "id": "FunCvwvccnSW"
      }
    },
    {
      "cell_type": "code",
      "execution_count": 22,
      "metadata": {
        "id": "7qsELA3La5wI"
      },
      "outputs": [],
      "source": [
        "def find_closest_centroid(X, centroids):\n",
        "  K = centroids.shape[0] #Number of clusters\n",
        "  m = X.shape[0] # X.shape[0] represents m, number of training examples\n",
        "  idx = np.zeros(m,dtype=int) \n",
        "  for i in range(m): # Iterating through each training example\n",
        "    distance = [] # An array to hold the distance values for the particular data-point to each and every centroid\n",
        "    for j in range(K): # Iterating through each centroid points\n",
        "      l2_norm = np.linalg.norm(X[i] - centroids[j])\n",
        "      distance.append(l2_norm)\n",
        "    idx[i] = np.argmin(distance) #Array to hold the min distance only for each example\n",
        "    # The argmin function returns the index of the minimum value of a Numpy array.\n",
        "  return idx"
      ]
    },
    {
      "cell_type": "markdown",
      "source": [
        "Loading an example dataset"
      ],
      "metadata": {
        "id": "4ArDr5IGg0EM"
      }
    },
    {
      "cell_type": "code",
      "source": [
        "X = load_data()"
      ],
      "metadata": {
        "id": "ogmxj_5ngybY"
      },
      "execution_count": 23,
      "outputs": []
    },
    {
      "cell_type": "code",
      "source": [
        "print(\"First five values of X are as follows : \\n\",X[:5])\n",
        "print(\"The shape of X is \",X.shape)"
      ],
      "metadata": {
        "colab": {
          "base_uri": "https://localhost:8080/"
        },
        "id": "iT2i15qmg4Na",
        "outputId": "2c9e71e9-0fb9-4997-d9f4-96dab4e4b1b9"
      },
      "execution_count": 24,
      "outputs": [
        {
          "output_type": "stream",
          "name": "stdout",
          "text": [
            "First five values of X are as follows : \n",
            " [[1.84207953 4.6075716 ]\n",
            " [5.65858312 4.79996405]\n",
            " [6.35257892 3.2908545 ]\n",
            " [2.90401653 4.61220411]\n",
            " [3.23197916 4.93989405]]\n",
            "The shape of X is  (300, 2)\n"
          ]
        }
      ]
    },
    {
      "cell_type": "markdown",
      "source": [
        "Testing out the nearest centroid calculator"
      ],
      "metadata": {
        "id": "I3Q8bER9hHmJ"
      }
    },
    {
      "cell_type": "code",
      "source": [
        "initial_centroids = np.array([[3,3], [6,2], [8,5]]) # Picking up a dummy initial centroid values for 3 clusters\n",
        "idx = find_closest_centroid(X, initial_centroids)\n",
        "print(\"First five centroid coordinates are as follows :\",idx[:5])"
      ],
      "metadata": {
        "colab": {
          "base_uri": "https://localhost:8080/"
        },
        "id": "dTl5lMr5hDYj",
        "outputId": "bde6cf59-7eea-4df4-86cd-00bb98e943df"
      },
      "execution_count": 25,
      "outputs": [
        {
          "output_type": "stream",
          "name": "stdout",
          "text": [
            "First five centroid coordinates are as follows : [0 2 1 0 0]\n"
          ]
        }
      ]
    },
    {
      "cell_type": "markdown",
      "source": [
        "**3.2 Computing the Centroid means**"
      ],
      "metadata": {
        "id": "yo_Irl9ppA7-"
      }
    },
    {
      "cell_type": "markdown",
      "source": [
        "After each point has been appointed to a particular cluster-centroid, next stage is to find the mean of the assigned datasets of a cluster. \n",
        "\n",
        "Inputs - \n",
        "- X: Data-points\n",
        "- idx : Assigned centroid indexes of the data-points\n",
        "- K: Number of clusters\n",
        "\n",
        "Output - \n",
        "- centroid - new centroid points equal to the mean of the assigned data-points"
      ],
      "metadata": {
        "id": "hRvrp04dgEbj"
      }
    },
    {
      "cell_type": "code",
      "source": [
        "def compute_centroids(X, idx, K):\n",
        "  m,n = X.shape # Number of training examples\n",
        "  centroids = np.zeros((K,n))\n",
        "  for k in range(K): # Iterating through each clusters\n",
        "    points = X[idx==k]\n",
        "    centroids[k] = np.mean(points, axis = 0)\n",
        "  \n",
        "  return centroids"
      ],
      "metadata": {
        "id": "52zKov_thk-i"
      },
      "execution_count": 31,
      "outputs": []
    },
    {
      "cell_type": "code",
      "source": [
        "K = 3\n",
        "centroids = compute_centroids(X, idx, K)\n",
        "\n",
        "print(\"The centroids are:\", centroids)"
      ],
      "metadata": {
        "colab": {
          "base_uri": "https://localhost:8080/"
        },
        "id": "QVcIjwKNoOJy",
        "outputId": "d8f6a3fb-5cba-41e6-aea6-041c71f1e157"
      },
      "execution_count": 32,
      "outputs": [
        {
          "output_type": "stream",
          "name": "stdout",
          "text": [
            "The centroids are: [[2.42830111 3.15792418]\n",
            " [5.81350331 2.63365645]\n",
            " [7.11938687 3.6166844 ]]\n"
          ]
        }
      ]
    },
    {
      "cell_type": "code",
      "source": [
        "print(centroids.shape)"
      ],
      "metadata": {
        "colab": {
          "base_uri": "https://localhost:8080/"
        },
        "id": "autfkffuqwSN",
        "outputId": "2b25648f-b14b-4423-fae3-ee60417ec32f"
      },
      "execution_count": 34,
      "outputs": [
        {
          "output_type": "stream",
          "name": "stdout",
          "text": [
            "(3, 2)\n"
          ]
        }
      ]
    },
    {
      "cell_type": "markdown",
      "source": [
        "**3.3 Compiling the wrapper function**"
      ],
      "metadata": {
        "id": "pLteuJRtrKgU"
      }
    },
    {
      "cell_type": "markdown",
      "source": [
        "Once the two functions, find_closest_centroid and compute_centroids have been defined - we can run the K-Means algorithm over a demo 2D dataset"
      ],
      "metadata": {
        "id": "oTyJcH33j0DQ"
      }
    },
    {
      "cell_type": "code",
      "source": [
        "def run_KMeans(X, initial_centroids, max_iter = 10, plot_prog = False):\n",
        "  m = X.shape[0] #Number of training examples\n",
        "  K = initial_centroids.shape[0] # Number of clusters\n",
        "  centroids = initial_centroids\n",
        "  prev_centroids = centroids\n",
        "  idx = np.zeros(m)\n",
        "\n",
        "  for i in range(max_iter):\n",
        "    print(\"K-Means iteration %d/%d\" %(i, max_iter-1)) #Output progress\n",
        "    idx = find_closest_centroid(X, centroids)\n",
        "    if plot_prog:\n",
        "      plot_progress(K, centroids, prev_centroids, idx, i)\n",
        "      prev_centroids = centroids\n",
        "    centroids = compute_centroids(X, idx, K)\n",
        "    if(i==1):\n",
        "      print(centroids.shape)\n",
        "\n",
        "  plt.show()\n",
        "  return centroids, idx"
      ],
      "metadata": {
        "id": "85TyK_aRjxUB"
      },
      "execution_count": 35,
      "outputs": []
    },
    {
      "cell_type": "code",
      "source": [
        "# Load the dummy dataset\n",
        "X = load_data()\n",
        "\n",
        "# Set initial centroids (pre-defined value just for a test purpose)\n",
        "initial_centroids = np.array([[3,3],[6,2],[8,5]])\n",
        "K = 3\n",
        "\n",
        "# Number of iterations\n",
        "max_iter = 10\n",
        "\n",
        "centroids, idx = run_KMeans(X, initial_centroids, max_iter, plot_prog=True)"
      ],
      "metadata": {
        "colab": {
          "base_uri": "https://localhost:8080/",
          "height": 458
        },
        "id": "MVzlR1ARk9QB",
        "outputId": "6154a6b6-e216-41ba-c64b-9faba03d882f"
      },
      "execution_count": 36,
      "outputs": [
        {
          "output_type": "stream",
          "name": "stdout",
          "text": [
            "K-Means iteration 0/9\n",
            "K-Means iteration 1/9\n",
            "(3, 2)\n",
            "K-Means iteration 2/9\n",
            "K-Means iteration 3/9\n",
            "K-Means iteration 4/9\n",
            "K-Means iteration 5/9\n",
            "K-Means iteration 6/9\n",
            "K-Means iteration 7/9\n",
            "K-Means iteration 8/9\n",
            "K-Means iteration 9/9\n"
          ]
        },
        {
          "output_type": "display_data",
          "data": {
            "text/plain": [
              "<Figure size 432x288 with 1 Axes>"
            ],
            "image/png": "[encoded data removed]"
          },
          "metadata": {
            "needs_background": "light"
          }
        }
      ]
    },
    {
      "cell_type": "markdown",
      "source": [
        "**3.4 Random Initialization**"
      ],
      "metadata": {
        "id": "hrauMkvQrO4U"
      }
    },
    {
      "cell_type": "code",
      "source": [
        "def kmeans_random_init(X,K):\n",
        "  randidx = np.random.permutation(X.shape[0])\n",
        "  centroids = X[randidx[:K]]\n",
        "  return centroids"
      ],
      "metadata": {
        "id": "UCEbrUfzliu_"
      },
      "execution_count": 37,
      "outputs": []
    },
    {
      "cell_type": "code",
      "source": [
        "# Load the dummy dataset\n",
        "X = load_data()\n",
        "\n",
        "# Set initial centroids (pre-defined value just for a test purpose)\n",
        "K = 3\n",
        "initial_centroids = kmeans_random_init(X,K)\n",
        "\n",
        "\n",
        "# Number of iterations\n",
        "max_iter = 10\n",
        "\n",
        "centroids, idx = run_KMeans(X, initial_centroids, max_iter, plot_prog=True)"
      ],
      "metadata": {
        "colab": {
          "base_uri": "https://localhost:8080/",
          "height": 458
        },
        "id": "uKdOi3CariXJ",
        "outputId": "c2491f4c-3b4e-440f-d6c9-e0054d416cfa"
      },
      "execution_count": 38,
      "outputs": [
        {
          "output_type": "stream",
          "name": "stdout",
          "text": [
            "K-Means iteration 0/9\n",
            "K-Means iteration 1/9\n",
            "(3, 2)\n",
            "K-Means iteration 2/9\n",
            "K-Means iteration 3/9\n",
            "K-Means iteration 4/9\n",
            "K-Means iteration 5/9\n",
            "K-Means iteration 6/9\n",
            "K-Means iteration 7/9\n",
            "K-Means iteration 8/9\n",
            "K-Means iteration 9/9\n"
          ]
        },
        {
          "output_type": "display_data",
          "data": {
            "text/plain": [
              "<Figure size 432x288 with 1 Axes>"
            ],
            "image/png": "[encoded data removed]"
          },
          "metadata": {
            "needs_background": "light"
          }
        }
      ]
    },
    {
      "cell_type": "code",
      "source": [],
      "metadata": {
        "id": "RqONE8iNrsd6"
      },
      "execution_count": null,
      "outputs": []
    }
  ]
}